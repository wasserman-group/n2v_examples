{
 "cells": [
  {
   "cell_type": "markdown",
   "id": "behind-character",
   "metadata": {},
   "source": [
    "## mRKS method\n",
    "\n",
    "Please check the original paper:\\\n",
    "\\[1\\] [Ryabinkin, Kohut and Staroverov, PRL 115, 083001 (2015)](https://journals.aps.org/prl/abstract/10.1103/PhysRevLett.115.083001) \\\n",
    "\\[2\\] [Ospadov, Ryabinkin and Staroverov, J. Chem. Phys. 146, 084103 (2017)](https://doi.org/10.1063/1.4975990) \\\n",
    "\\[3\\] [Staroverov, Ospadov, Advances in Quantum Chemistry, Volume 79 (2019)](https://doi.org/10.1016/bs.aiq.2019.04.002).\\\n",
    "Detailed examples is in Nobel_Gas examples."
   ]
  },
  {
   "cell_type": "markdown",
   "id": "documented-lafayette",
   "metadata": {},
   "source": [
    "First, build the input wavefunction using Psi4. Note that currently only Psi4.CIWavefunction supports two-particle density matrices (tpdm). CISD is used in this example."
   ]
  },
  {
   "cell_type": "code",
   "execution_count": null,
   "id": "affiliated-solomon",
   "metadata": {},
   "outputs": [],
   "source": [
    "import psi4\n",
    "import matplotlib.pyplot as plt\n",
    "import numpy as np\n",
    "\n",
    "psi4.set_options({\"save_jk\" : True})\n",
    "psi4.set_memory(int(2.50e10))\n",
    "psi4.set_num_threads(4)\n",
    "psi4.core.clean()\n",
    "\n",
    "import n2v\n",
    "\n",
    "import matplotlib as mpl\n",
    "mpl.rcParams[\"font.size\"] = 11\n",
    "mpl.rcParams[\"font.family\"] = \"sans-serif\"\n",
    "mpl.rcParams[\"axes.edgecolor\"] = \"#eae8e9\""
   ]
  },
  {
   "cell_type": "code",
   "execution_count": null,
   "id": "single-arcade",
   "metadata": {},
   "outputs": [],
   "source": [
    "FC2Cl = psi4.geometry( \n",
    "\"\"\" \n",
    "0 1\n",
    "F -4.622780328 0 0\n",
    "C -2.225662738 0 0\n",
    "C 0        0 0\n",
    "Cl 3.130803758 0 0\n",
    "noreorient\n",
    "nocom\n",
    "units bohr\n",
    "symmetry c1\n",
    "\"\"\" )\n",
    "\n",
    "psi4.set_options({\"reference\" : \"rhf\",\n",
    "                  \"opdm\": True,\n",
    "                  \"tpdm\": True,\n",
    "                  'DFT_SPHERICAL_POINTS': 74,  # Usually specify the DFT spherical grid is highly recommended.\n",
    "                  'DFT_RADIAL_POINTS': 56,  # See [https://psicode.org/psi4manual/master/dft.html] for options.\n",
    "                 })  # Spin-Restricted\n",
    "\n",
    "# IMPORTANT NOTE: ONLY psi4.CIWavefunction or RHF is supported.\n",
    "wfn = psi4.properties(\"detci/cc-pcvdz\", return_wfn=True, molecule=FC2Cl, properties=[\"dipole\"])[1]\n",
    "\n",
    "inverter = n2v.Inverter.from_wfn(wfn)"
   ]
  },
  {
   "cell_type": "code",
   "execution_count": null,
   "id": "other-southeast",
   "metadata": {},
   "outputs": [],
   "source": [
    "# Define Plotting grid\n",
    "\n",
    "x = np.linspace(-7,7,1401)\n",
    "y = [0]\n",
    "z = [0]\n",
    "grid, shape = inverter.generate_grid(x,y,z)"
   ]
  },
  {
   "cell_type": "code",
   "execution_count": null,
   "id": "composed-scout",
   "metadata": {},
   "outputs": [],
   "source": [
    "# Perform inversion\n",
    "inverter.invert(\"mRKS\", vxc_grid=grid, opt_max_iter=30, frac_old=0.8, init=\"scan\", sing=(1e-7, 1e-4, 1e-7, 1e-4))"
   ]
  },
  {
   "cell_type": "code",
   "execution_count": null,
   "id": "steady-theorem",
   "metadata": {},
   "outputs": [],
   "source": [
    "fig, ax = plt.subplots(dpi=200)\n",
    "ax.plot(x, inverter.grid.vxc, label=\"vxc\")\n",
    "ax.legend()\n",
    "fig.show()"
   ]
  },
  {
   "cell_type": "code",
   "execution_count": null,
   "id": "declared-finder",
   "metadata": {},
   "outputs": [],
   "source": []
  }
 ],
 "metadata": {
  "kernelspec": {
   "display_name": "Python 3",
   "language": "python",
   "name": "python3"
  },
  "language_info": {
   "codemirror_mode": {
    "name": "ipython",
    "version": 3
   },
   "file_extension": ".py",
   "mimetype": "text/x-python",
   "name": "python",
   "nbconvert_exporter": "python",
   "pygments_lexer": "ipython3",
   "version": "3.8.5"
  }
 },
 "nbformat": 4,
 "nbformat_minor": 5
}
