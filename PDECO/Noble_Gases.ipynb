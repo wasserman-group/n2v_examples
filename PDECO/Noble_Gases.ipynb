{
 "cells": [
  {
   "cell_type": "markdown",
   "metadata": {},
   "source": [
    "## Wu-Yang Method for KS Inversion\n",
    "Please check the original paper of the PDE-Constrained Optimization method: \\\n",
    "[Jensen Wasserman, Int J Quantum Chem. 2018;118:e25425](https://onlinelibrary.wiley.com/doi/full/10.1002/qua.25425);\\\n",
    "[Kanungo, Zimmerman, Gavini, Nat Commun 10, 4497 (2019)](https://doi.org/10.1038)"
   ]
  },
  {
   "cell_type": "code",
   "execution_count": 1,
   "metadata": {
    "scrolled": true
   },
   "outputs": [],
   "source": [
    "import psi4\n",
    "import matplotlib.pyplot as plt\n",
    "import numpy as np\n",
    "\n",
    "psi4.set_options({\"save_jk\" : True})\n",
    "psi4.set_memory(int(2.50e9))\n",
    "psi4.core.clean()\n",
    "\n",
    "import n2v"
   ]
  },
  {
   "cell_type": "markdown",
   "metadata": {},
   "source": [
    "---\n",
    "### Perform target calculation with Psi4. \n",
    "Store wavefunction (wfn) object"
   ]
  },
  {
   "cell_type": "code",
   "execution_count": 2,
   "metadata": {},
   "outputs": [],
   "source": [
    "Ne = psi4.geometry( \n",
    "\"\"\" \n",
    "Ne\n",
    "noreorient\n",
    "nocom\n",
    "units bohr\n",
    "symmetry c1\n",
    "\"\"\" )\n",
    "\n",
    "psi4.set_options({\"reference\" : \"rhf\"})  # Spin-Restricted\n",
    "\n",
    "# IMPORTANT NOTE: psi4.energy does not update cc densities. So we calculate dipole moments instead.\n",
    "wfn = psi4.properties(\"ccsd/aug-cc-pvtz\",  return_wfn=True, molecule=Ne, property=['dipole'])[1]\n",
    "\n",
    "# Build inverter and set target\n",
    "ine = n2v.Inverter(wfn, pbs=\"aug-cc-pvqz\")"
   ]
  },
  {
   "cell_type": "markdown",
   "metadata": {},
   "source": [
    "---\n",
    "### Invert! \n",
    "$$v_{Kohn-Sham}=v_{ext}+v_{guide}+v_{rest}$$\n",
    "With the guide potential $v_{guide}=v_{Fermi-Amaldi}$ and the rest potential $v_{rest}$ on the potential basis set (pbs) \"aug-cc-pvqz\"."
   ]
  },
  {
   "cell_type": "code",
   "execution_count": 3,
   "metadata": {},
   "outputs": [
    {
     "name": "stdout",
     "output_type": "stream",
     "text": [
      "Optimization Successful within 146 iterations! |grad|=4.53e-05.\n"
     ]
    }
   ],
   "source": [
    "# Inverter with WuYang method, guide potention v0=Fermi-Amaldi\n",
    "ine.v_pbs = np.zeros_like(ine.v_pbs)\n",
    "ine.invert(\"PDECO\", opt_max_iter=200, guide_potential_components=[\"fermi_amaldi\"], gtol=1e-6)"
   ]
  },
  {
   "cell_type": "markdown",
   "metadata": {},
   "source": [
    "---\n",
    "### Visualization\n",
    "#### Visualization of the potentials. \n",
    "\n",
    "#### Since this is a 1-D system, let's first plot it alone x axis."
   ]
  },
  {
   "cell_type": "markdown",
   "metadata": {},
   "source": [
    "Building grids"
   ]
  },
  {
   "cell_type": "code",
   "execution_count": 4,
   "metadata": {},
   "outputs": [
    {
     "data": {
      "text/plain": [
       "(3, 101)"
      ]
     },
     "execution_count": 4,
     "metadata": {},
     "output_type": "execute_result"
    }
   ],
   "source": [
    "x = np.linspace(-5,5,101)\n",
    "y = np.zeros_like(x)\n",
    "z = np.zeros_like(x)\n",
    "grids = np.array([x,y,z])\n",
    "grids.shape"
   ]
  },
  {
   "cell_type": "markdown",
   "metadata": {},
   "source": [
    "Or the grids can be generate alternatively by np.meshgrid and flatten."
   ]
  },
  {
   "cell_type": "code",
   "execution_count": 5,
   "metadata": {},
   "outputs": [
    {
     "data": {
      "text/plain": [
       "True"
      ]
     },
     "execution_count": 5,
     "metadata": {},
     "output_type": "execute_result"
    }
   ],
   "source": [
    "grids_temp, _ = ine.generate_grids(x=x, y=[0], z=[0])\n",
    "np.allclose(grids_temp, grids)"
   ]
  },
  {
   "cell_type": "markdown",
   "metadata": {},
   "source": [
    "Get Hartree and Fermi-Amaldi potentials"
   ]
  },
  {
   "cell_type": "code",
   "execution_count": 6,
   "metadata": {},
   "outputs": [],
   "source": [
    "vH, vFA = ine.on_grid_esp(grid=grids)[1:3]\n",
    "assert np.allclose(vFA, vH * (1-1/(ine.nalpha+ine.nbeta)))"
   ]
  },
  {
   "cell_type": "markdown",
   "metadata": {},
   "source": [
    "Get exchange-correlation potentials.\n",
    "\\begin{align}\n",
    "v_{xc}\n",
    "&=v_{Kohn-Sham}-v_{Hartree}-v_{ext}\\\\\n",
    "&=v_{guide}+v_{rest}-v_{Hartree}\n",
    "\\end{align}"
   ]
  },
  {
   "cell_type": "code",
   "execution_count": 7,
   "metadata": {},
   "outputs": [],
   "source": [
    "vrest = ine.on_grid_ao(ine.v_pbs, grid=grids, basis=ine.pbs)  # Note that specify the basis set \n",
    "                                                               # that vrest is on."
   ]
  },
  {
   "cell_type": "code",
   "execution_count": 8,
   "metadata": {},
   "outputs": [],
   "source": [
    "vxc = vFA + vrest - vH"
   ]
  },
  {
   "cell_type": "code",
   "execution_count": 9,
   "metadata": {
    "scrolled": true
   },
   "outputs": [
    {
     "data": {
      "text/plain": [
       "<matplotlib.legend.Legend at 0x7f785b92df50>"
      ]
     },
     "execution_count": 9,
     "metadata": {},
     "output_type": "execute_result"
    },
    {
     "data": {
      "image/png": "[encoded data removed]",
      "text/plain": [
       "<Figure size 432x288 with 1 Axes>"
      ]
     },
     "metadata": {
      "needs_background": "light"
     },
     "output_type": "display_data"
    }
   ],
   "source": [
    "plt.plot(x, vH, label=\"vH\")\n",
    "plt.legend()"
   ]
  },
  {
   "cell_type": "code",
   "execution_count": 10,
   "metadata": {
    "scrolled": true
   },
   "outputs": [
    {
     "data": {
      "text/plain": [
       "[<matplotlib.lines.Line2D at 0x7f78584cb1d0>]"
      ]
     },
     "execution_count": 10,
     "metadata": {},
     "output_type": "execute_result"
    },
    {
     "data": {
      "image/png": "[encoded data removed]",
      "text/plain": [
       "<Figure size 432x288 with 1 Axes>"
      ]
     },
     "metadata": {
      "needs_background": "light"
     },
     "output_type": "display_data"
    }
   ],
   "source": [
    "plt.plot(x, vxc, label=\"vxc\")"
   ]
  },
  {
   "cell_type": "markdown",
   "metadata": {},
   "source": [
    "Let's try unrestricted."
   ]
  },
  {
   "cell_type": "code",
   "execution_count": 2,
   "metadata": {},
   "outputs": [],
   "source": [
    "Ne = psi4.geometry( \n",
    "\"\"\" \n",
    "Ne\n",
    "noreorient\n",
    "nocom\n",
    "units bohr\n",
    "symmetry c1\n",
    "\"\"\" )\n",
    "\n",
    "psi4.set_options({\"reference\" : \"uhf\"})  # Spin-Restricted\n",
    "\n",
    "# IMPORTANT NOTE: psi4.energy does not update cc densities. So we calculate dipole moments instead.\n",
    "wfn = psi4.properties(\"ccsd/aug-cc-pvtz\",  return_wfn=True, molecule=Ne, property=['dipole'])[1]\n",
    "\n",
    "# Build inverter and set target\n",
    "ine = n2v.Inverter(wfn, pbs=\"aug-cc-pvqz\")"
   ]
  },
  {
   "cell_type": "code",
   "execution_count": 3,
   "metadata": {},
   "outputs": [
    {
     "name": "stdout",
     "output_type": "stream",
     "text": [
      "Optimization Successful within 106 iterations! |grad|=2.21e-05.\n"
     ]
    }
   ],
   "source": [
    "# Inverter with WuYang method, guide potention v0=Fermi-Amaldi\n",
    "ine.v_pbs = np.zeros_like(ine.v_pbs)\n",
    "ine.invert(\"PDECO\", opt_max_iter=200, guide_potential_components=[\"fermi_amaldi\"], gtol=1e-6)"
   ]
  },
  {
   "cell_type": "code",
   "execution_count": 4,
   "metadata": {},
   "outputs": [],
   "source": [
    "x = np.linspace(-5,5,101)\n",
    "y = np.zeros_like(x)\n",
    "z = np.zeros_like(x)\n",
    "grids = np.array([x,y,z])\n",
    "grids.shape\n",
    "\n",
    "vH, vFA = ine.on_grid_esp(grid=grids)[1:3]\n",
    "assert np.allclose(vFA, vH * (1-1/(ine.nalpha+ine.nbeta)))"
   ]
  },
  {
   "cell_type": "code",
   "execution_count": 11,
   "metadata": {},
   "outputs": [],
   "source": [
    "vrest_a = ine.on_grid_ao(ine.v_pbs[:ine.npbs], grid=grids, basis=ine.pbs)  # Note that specify the basis set \n",
    "                                                               # that vrest is on.\n",
    "vxc_a = vFA + vrest_a - vH"
   ]
  },
  {
   "cell_type": "code",
   "execution_count": 12,
   "metadata": {},
   "outputs": [],
   "source": [
    "vrest_b = ine.on_grid_ao(ine.v_pbs[ine.npbs:], grid=grids, basis=ine.pbs)  # Note that specify the basis set \n",
    "                                                               # that vrest is on.\n",
    "vxc_b = vFA + vrest_b - vH"
   ]
  },
  {
   "cell_type": "code",
   "execution_count": 13,
   "metadata": {},
   "outputs": [
    {
     "data": {
      "text/plain": [
       "[<matplotlib.lines.Line2D at 0x7f6ff6fb7210>]"
      ]
     },
     "execution_count": 13,
     "metadata": {},
     "output_type": "execute_result"
    },
    {
     "data": {
      "image/png": "[encoded data removed]",
      "text/plain": [
       "<Figure size 432x288 with 1 Axes>"
      ]
     },
     "metadata": {
      "needs_background": "light"
     },
     "output_type": "display_data"
    }
   ],
   "source": [
    "plt.plot(x, vxc_a, label=\"vxc\")\n",
    "plt.plot(x, vxc_b, label=\"vxc\", ls=\"--\")"
   ]
  }
 ],
 "metadata": {
  "kernelspec": {
   "display_name": "Python 3.8.12 64-bit ('psi4': conda)",
   "language": "python",
   "name": "python3812jvsc74a57bd07f8cb4fe1af0e9ef7d4fb60e83b559fa170f9da1372865c08ea2793cb67a2763"
  },
  "language_info": {
   "codemirror_mode": {
    "name": "ipython",
    "version": 3
   },
   "file_extension": ".py",
   "mimetype": "text/x-python",
   "name": "python",
   "nbconvert_exporter": "python",
   "pygments_lexer": "ipython3",
   "version": "3.8.12"
  }
 },
 "nbformat": 4,
 "nbformat_minor": 4
}
