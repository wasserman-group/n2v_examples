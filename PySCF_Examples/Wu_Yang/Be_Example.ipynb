{
 "cells": [
  {
   "cell_type": "markdown",
   "id": "valid-spokesman",
   "metadata": {},
   "source": [
    "## Wu-Yang Method for KS Inversion\n",
    "Please check the original paper of the Wu-Yang method: [Qin Wu, Weitao Yang, J. Chem. Phys. 118, 2498 (2003)](https://aip.scitation.org/doi/abs/10.1063/1.1535422?casa_token=caPxLNp1Jm8AAAAA:WsOECHVnX79_uiv6Gxx7DcxXcQ2QTl-_wRKNVekhXK9gIvVZ22T2oFk9_hya4Tc8C7iixmki3YceYA)."
   ]
  },
  {
   "cell_type": "code",
   "execution_count": 1,
   "id": "occasional-tablet",
   "metadata": {},
   "outputs": [],
   "source": [
    "import matplotlib.pyplot as plt\n",
    "import numpy as np\n",
    "from pyscf import gto\n",
    "\n",
    "import n2v\n",
    "\n",
    "import matplotlib as mpl\n",
    "mpl.rcParams[\"font.size\"] = 11\n",
    "mpl.rcParams[\"font.family\"] = \"sans-serif\"\n",
    "mpl.rcParams[\"axes.edgecolor\"] = \"#eae8e9\" "
   ]
  },
  {
   "cell_type": "markdown",
   "id": "institutional-subject",
   "metadata": {},
   "source": [
    "---\n",
    "### Perform target calculation with Psi4. \n",
    "Store wavefunction (wfn) object"
   ]
  },
  {
   "cell_type": "code",
   "execution_count": 2,
   "id": "tropical-frequency",
   "metadata": {},
   "outputs": [
    {
     "name": "stdout",
     "output_type": "stream",
     "text": [
      "converged SCF energy = -14.6493195487414\n",
      "converged SCF energy = -14.4463376075342  <S^2> = -8.8817842e-16  2S+1 = 1\n"
     ]
    }
   ],
   "source": [
    "# Define Molecule\n",
    "mol = gto.M(atom = \"\"\"\n",
    "                  Be\n",
    "                  \"\"\",\n",
    "basis = 'aug-cc-pvtz')\n",
    "\n",
    "# Perform Calculation\n",
    "mf = mol.KS()\n",
    "mf.xc = 'scan'\n",
    "mf.kernel()\n",
    "\n",
    "# Extract data for n2v. \n",
    "da, db = mf.make_rdm1()/2, mf.make_rdm1()/2\n",
    "ca, cb = mf.mo_coeff[:,:mol.nelec[0]], mf.mo_coeff[:, :mol.nelec[1]]\n",
    "ea, eb = mf.mo_energy, mf.mo_energy\n",
    "\n",
    "# Initialize inverter object. \n",
    "inv = n2v.Inverter( engine='pyscf' )\n",
    "\n",
    "inv.set_system( mol, 'aug-cc-pvtz', pbs='aug-cc-pvqz' )\n",
    "inv.Dt = [da, db]\n",
    "inv.ct = [ca, cb]\n",
    "inv.et = [ea, eb]"
   ]
  },
  {
   "cell_type": "markdown",
   "id": "outside-flashing",
   "metadata": {},
   "source": [
    "---\n",
    "### Invert! \n",
    "$$v_{Kohn-Sham}=v_{ext}+v_{guide}+v_{PBE}$$\n",
    "With the guide potential $v_{guide}=v_{Fermi-Amaldi}$ and the rest potential $v_{rest}$ on the potential basis set (pbs) \"aug-cc-pvqz\"."
   ]
  },
  {
   "cell_type": "code",
   "execution_count": 3,
   "id": "cardiac-fossil",
   "metadata": {},
   "outputs": [
    {
     "name": "stdout",
     "output_type": "stream",
     "text": [
      "Optimization Successful within 2 iterations! |grad|=6.17e-04\n"
     ]
    },
    {
     "name": "stderr",
     "output_type": "stream",
     "text": [
      "/home/vh/miniconda3/envs/n2v/lib/python3.8/site-packages/scipy/optimize/_trustregion.py:189: ComplexWarning: Casting complex values to real discards the imaginary part\n",
      "  p, hits_boundary = m.solve(trust_radius)\n"
     ]
    }
   ],
   "source": [
    "# Inverter with WuYang method, guide potention v0=Fermi-Amaldi\n",
    "inv.invert(\"WuYang\", guide_components=\"fermi_amaldi\")"
   ]
  },
  {
   "cell_type": "markdown",
   "id": "rotary-louis",
   "metadata": {},
   "source": [
    "---\n",
    "### Visualization of the potentials. \n",
    "#### Since this is a 1-D system, let's first plot it alone x axis."
   ]
  },
  {
   "cell_type": "code",
   "execution_count": 4,
   "id": "violent-revelation",
   "metadata": {},
   "outputs": [],
   "source": [
    "# Build Grid\n",
    "inv.eng.grid.build_rectangular((1001,1,1))\n",
    "x = inv.eng.grid.x"
   ]
  },
  {
   "cell_type": "code",
   "execution_count": 5,
   "id": "guilty-costs",
   "metadata": {},
   "outputs": [],
   "source": [
    "###### Get Hartree and Fermi-Amadli Potentials:\n",
    "\n",
    "vH = inv.eng.grid.hartree(density=inv.Dt[0]+inv.Dt[1], grid='rectangular')\n",
    "vFA = (1-1/(inv.nalpha + inv.nbeta)) * vH"
   ]
  },
  {
   "cell_type": "markdown",
   "id": "strange-medicare",
   "metadata": {},
   "source": [
    "---\n",
    "Fintally, let's find the exchange-correlation potential:\n",
    "\\begin{align}\n",
    "v_{xc}\n",
    "&=v_{Kohn-Sham}-v_{Hartree}-v_{ext}\\\\\n",
    "&=v_{guide}+v_{rest}-v_{Hartree}\n",
    "\\end{align}"
   ]
  },
  {
   "cell_type": "code",
   "execution_count": 8,
   "id": "serious-publication",
   "metadata": {},
   "outputs": [],
   "source": [
    "vrest = inv.eng.grid.to_grid(inv.v_pbs, grid='rectangular') \n",
    "hartree = inv.eng.grid.hartree(da+db, grid='rectangular')\n",
    "fa = (1-1/(inv.nalpha + inv.nbeta)) * hartree\n",
    "\n",
    "# Compute vxc according to the previous equation. \n",
    "vxc = vFA + vrest - vH"
   ]
  },
  {
   "cell_type": "code",
   "execution_count": 9,
   "id": "cellular-mechanics",
   "metadata": {},
   "outputs": [
    {
     "data": {
      "text/plain": [
       "<matplotlib.legend.Legend at 0x7f9a11414e80>"
      ]
     },
     "execution_count": 9,
     "metadata": {},
     "output_type": "execute_result"
    },
    {
     "data": {
      "image/png": "[encoded data removed]",
      "text/plain": [
       "<Figure size 432x288 with 1 Axes>"
      ]
     },
     "metadata": {
      "needs_background": "light"
     },
     "output_type": "display_data"
    }
   ],
   "source": [
    "# Plot the potential. \n",
    "fig, ax = plt.subplots()\n",
    "ax.plot(x, vxc, label=\"vxc\")\n",
    "ax.legend()"
   ]
  }
 ],
 "metadata": {
  "kernelspec": {
   "display_name": "Python 3",
   "language": "python",
   "name": "python3"
  },
  "language_info": {
   "codemirror_mode": {
    "name": "ipython",
    "version": 3
   },
   "file_extension": ".py",
   "mimetype": "text/x-python",
   "name": "python",
   "nbconvert_exporter": "python",
   "pygments_lexer": "ipython3",
   "version": "3.8.5"
  }
 },
 "nbformat": 4,
 "nbformat_minor": 5
}
