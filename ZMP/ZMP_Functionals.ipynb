{
 "cells": [
  {
   "cell_type": "markdown",
   "metadata": {},
   "source": [
    "### Generalization of ZMP method."
   ]
  },
  {
   "cell_type": "markdown",
   "metadata": {},
   "source": [
    "The work of [Kamal and Harbola](https://doi.org/10.1002/qua.26400) proved that the Hartree potential is not the only Functional that can be used to drive the inversion procedure. Their work showed that a functional that satisfies the condition:\n",
    "\n",
    "$$\n",
    "\\int \\frac{\\delta S[n]}{\\delta n} - \\frac{\\delta S[n]}{\\delta n} \\bigg|_{n_0(r)} (n(r) - n_0(r)) dr \\le 0\n",
    "$$\n",
    "\n",
    "Can be used as apenalty functional for performing Levy's constrained search. Some of the functionals that can be used are:\n",
    "\n",
    "\n",
    "$$\n",
    "S_1[n] = \\frac{1}{2} \\int \\frac{n(r) n(r')}{|r-r'|} dr dr'\n",
    "$$\n",
    "\n",
    "$$\n",
    "S_2[n] =  \\int n(r) log(n(r)) dr \n",
    "$$\n",
    "\n",
    "$$\n",
    "S_3[n] = \\frac{1}{0.05+1} \\int n^{0.05+1}(r) dr \n",
    "$$\n",
    "\n"
   ]
  },
  {
   "cell_type": "markdown",
   "metadata": {},
   "source": [
    "The previous two functionals have been included in `n2v` and they can be used to drive the SCF calculation as follows: "
   ]
  },
  {
   "cell_type": "code",
   "execution_count": 1,
   "metadata": {},
   "outputs": [
    {
     "name": "stdout",
     "output_type": "stream",
     "text": [
      "\n",
      "  Memory set to   2.328 GiB by Python driver.\n"
     ]
    }
   ],
   "source": [
    "import os\n",
    "import psi4\n",
    "import matplotlib.pyplot as plt\n",
    "import numpy as np\n",
    "# import numpy_html\n",
    "psi4.set_options({\"save_jk\" : True})\n",
    "psi4.set_memory(int(2.50e9))\n",
    "psi4.core.clean()\n",
    "\n",
    "import n2v\n",
    "\n",
    "#Define Psi4 geometries. Symmetries need to be set to C1. \n",
    "Ne = psi4.geometry( \n",
    "\"\"\" \n",
    "0 1\n",
    "Ne 0.0 0.0 0.0\n",
    "noreorient\n",
    "nocom\n",
    "units bohr\n",
    "symmetry c1\n",
    "\"\"\" )\n",
    "\n",
    "\n",
    "#n2v is driven by psi4's reference option. Make sure you set it accordingly. \n",
    "psi4.set_options({\"reference\" : \"rhf\"})\n",
    "\n",
    "#Perform a calculation for a target density. \n",
    "#Remember that for post scf calculations, Psi4 does not update the density. \n",
    "#Thus make sure you obtain something like a dipole in order to do so. \n",
    "e, wfn_ne = psi4.properties(\"hf/aug-cc-pvtz\", return_wfn=True, properties=[\"dipole\"], molecule=Ne)\n",
    "\n",
    "#Define inverter objects for each molcule. Simply use the wnf object from psi4 as an argument. \n",
    "ine = n2v.Inverter(wfn_ne)\n",
    "\n",
    "#Define grid for plotting\n",
    "npoints=400\n",
    "x = np.linspace(-0,5,npoints)[:,None]\n",
    "y = np.linspace(-0,5,npoints)[:,None]\n",
    "z = np.linspace(-0,5,npoints)[:,None]\n",
    "grid = np.concatenate((x,y,z), axis=1).T"
   ]
  },
  {
   "cell_type": "markdown",
   "metadata": {},
   "source": [
    "#### HARTREE FUNCTIONAL\n",
    "---"
   ]
  },
  {
   "cell_type": "code",
   "execution_count": 2,
   "metadata": {},
   "outputs": [
    {
     "ename": "TypeError",
     "evalue": "zmp() got an unexpected keyword argument 'zmp_functional'",
     "output_type": "error",
     "traceback": [
      "\u001b[0;31m---------------------------------------------------------------------------\u001b[0m",
      "\u001b[0;31mTypeError\u001b[0m                                 Traceback (most recent call last)",
      "\u001b[0;32m/tmp/ipykernel_4969/1585086211.py\u001b[0m in \u001b[0;36m<module>\u001b[0;34m\u001b[0m\n\u001b[0;32m----> 1\u001b[0;31m \u001b[0mine\u001b[0m\u001b[0;34m.\u001b[0m\u001b[0minvert\u001b[0m\u001b[0;34m(\u001b[0m\u001b[0;34m\"zmp\"\u001b[0m\u001b[0;34m,\u001b[0m \u001b[0mopt_max_iter\u001b[0m\u001b[0;34m=\u001b[0m\u001b[0;36m500\u001b[0m\u001b[0;34m,\u001b[0m \u001b[0mopt_tol\u001b[0m\u001b[0;34m=\u001b[0m\u001b[0;36m1e-9\u001b[0m\u001b[0;34m,\u001b[0m \u001b[0mzmp_functional\u001b[0m\u001b[0;34m=\u001b[0m\u001b[0;34m'hartree'\u001b[0m\u001b[0;34m,\u001b[0m \u001b[0mzmp_mixing\u001b[0m\u001b[0;34m=\u001b[0m\u001b[0;36m0.01\u001b[0m\u001b[0;34m,\u001b[0m \u001b[0mlambda_list\u001b[0m\u001b[0;34m=\u001b[0m\u001b[0;34m[\u001b[0m\u001b[0;36m10\u001b[0m\u001b[0;34m]\u001b[0m\u001b[0;34m,\u001b[0m \u001b[0mguide_potential_components\u001b[0m\u001b[0;34m=\u001b[0m\u001b[0;34m[\u001b[0m\u001b[0;34m\"fermi_amaldi\"\u001b[0m\u001b[0;34m]\u001b[0m\u001b[0;34m)\u001b[0m\u001b[0;34m\u001b[0m\u001b[0;34m\u001b[0m\u001b[0m\n\u001b[0m\u001b[1;32m      2\u001b[0m \u001b[0;34m\u001b[0m\u001b[0m\n\u001b[1;32m      3\u001b[0m \u001b[0mwfn_ne\u001b[0m\u001b[0;34m.\u001b[0m\u001b[0mDa\u001b[0m\u001b[0;34m(\u001b[0m\u001b[0;34m)\u001b[0m\u001b[0;34m.\u001b[0m\u001b[0mnp\u001b[0m\u001b[0;34m[\u001b[0m\u001b[0;34m:\u001b[0m\u001b[0;34m]\u001b[0m \u001b[0;34m=\u001b[0m \u001b[0mine\u001b[0m\u001b[0;34m.\u001b[0m\u001b[0mproto_density_a\u001b[0m\u001b[0;34m\u001b[0m\u001b[0;34m\u001b[0m\u001b[0m\n\u001b[1;32m      4\u001b[0m \u001b[0mwfn_ne\u001b[0m\u001b[0;34m.\u001b[0m\u001b[0mDb\u001b[0m\u001b[0;34m(\u001b[0m\u001b[0;34m)\u001b[0m\u001b[0;34m.\u001b[0m\u001b[0mnp\u001b[0m\u001b[0;34m[\u001b[0m\u001b[0;34m:\u001b[0m\u001b[0;34m]\u001b[0m \u001b[0;34m=\u001b[0m \u001b[0mine\u001b[0m\u001b[0;34m.\u001b[0m\u001b[0mproto_density_b\u001b[0m\u001b[0;34m\u001b[0m\u001b[0;34m\u001b[0m\u001b[0m\n\u001b[1;32m      5\u001b[0m \u001b[0mresults\u001b[0m \u001b[0;34m=\u001b[0m \u001b[0mine\u001b[0m\u001b[0;34m.\u001b[0m\u001b[0mon_grid_esp\u001b[0m\u001b[0;34m(\u001b[0m\u001b[0mgrid\u001b[0m\u001b[0;34m=\u001b[0m\u001b[0mgrid\u001b[0m\u001b[0;34m,\u001b[0m \u001b[0;34m)\u001b[0m\u001b[0;34m\u001b[0m\u001b[0;34m\u001b[0m\u001b[0m\n",
      "\u001b[0;32m~/PDFT/n2v/n2v/inverter.py\u001b[0m in \u001b[0;36minvert\u001b[0;34m(self, method, guide_potential_components, opt_max_iter, **keywords)\u001b[0m\n\u001b[1;32m    446\u001b[0m             \u001b[0mself\u001b[0m\u001b[0;34m.\u001b[0m\u001b[0mwuyang\u001b[0m\u001b[0;34m(\u001b[0m\u001b[0mopt_max_iter\u001b[0m\u001b[0;34m,\u001b[0m \u001b[0;34m**\u001b[0m\u001b[0mkeywords\u001b[0m\u001b[0;34m)\u001b[0m\u001b[0;34m\u001b[0m\u001b[0;34m\u001b[0m\u001b[0m\n\u001b[1;32m    447\u001b[0m         \u001b[0;32melif\u001b[0m \u001b[0mmethod\u001b[0m\u001b[0;34m.\u001b[0m\u001b[0mlower\u001b[0m\u001b[0;34m(\u001b[0m\u001b[0;34m)\u001b[0m \u001b[0;34m==\u001b[0m \u001b[0;34m\"zmp\"\u001b[0m\u001b[0;34m:\u001b[0m\u001b[0;34m\u001b[0m\u001b[0;34m\u001b[0m\u001b[0m\n\u001b[0;32m--> 448\u001b[0;31m             \u001b[0mself\u001b[0m\u001b[0;34m.\u001b[0m\u001b[0mzmp\u001b[0m\u001b[0;34m(\u001b[0m\u001b[0mopt_max_iter\u001b[0m\u001b[0;34m,\u001b[0m \u001b[0;34m**\u001b[0m\u001b[0mkeywords\u001b[0m\u001b[0;34m)\u001b[0m\u001b[0;34m\u001b[0m\u001b[0;34m\u001b[0m\u001b[0m\n\u001b[0m\u001b[1;32m    449\u001b[0m         \u001b[0;32melif\u001b[0m \u001b[0mmethod\u001b[0m\u001b[0;34m.\u001b[0m\u001b[0mlower\u001b[0m\u001b[0;34m(\u001b[0m\u001b[0;34m)\u001b[0m \u001b[0;34m==\u001b[0m \u001b[0;34m\"mrks\"\u001b[0m\u001b[0;34m:\u001b[0m\u001b[0;34m\u001b[0m\u001b[0;34m\u001b[0m\u001b[0m\n\u001b[1;32m    450\u001b[0m             \u001b[0;32mreturn\u001b[0m \u001b[0mself\u001b[0m\u001b[0;34m.\u001b[0m\u001b[0mmRKS\u001b[0m\u001b[0;34m(\u001b[0m\u001b[0mopt_max_iter\u001b[0m\u001b[0;34m,\u001b[0m \u001b[0;34m**\u001b[0m\u001b[0mkeywords\u001b[0m\u001b[0;34m)\u001b[0m\u001b[0;34m\u001b[0m\u001b[0;34m\u001b[0m\u001b[0m\n",
      "\u001b[0;31mTypeError\u001b[0m: zmp() got an unexpected keyword argument 'zmp_functional'"
     ]
    }
   ],
   "source": [
    "ine.invert(\"zmp\", opt_max_iter=500, opt_tol=1e-9, zmp_functional='hartree', zmp_mixing=0.01, lambda_list=[10], guide_potential_components=[\"fermi_amaldi\"])\n",
    "\n",
    "wfn_ne.Da().np[:] = ine.proto_density_a\n",
    "wfn_ne.Db().np[:] = ine.proto_density_b\n",
    "results = ine.on_grid_esp(grid=grid, )\n",
    "vxc_ne = results[1]\n",
    "\n",
    "plt.title(\"Neon Exchange Correlation Potential\")\n",
    "plt.plot(x,  vxc_ne, label=\"vxc\")\n",
    "plt.legend()\n",
    "plt.xlim(0,5)\n",
    "plt.ylim(-9,1)"
   ]
  },
  {
   "cell_type": "markdown",
   "metadata": {},
   "source": [
    "#### EXPONENTIAL FUNCTIONAL\n",
    "---"
   ]
  },
  {
   "cell_type": "code",
   "execution_count": 6,
   "metadata": {},
   "outputs": [
    {
     "name": "stdout",
     "output_type": "stream",
     "text": [
      "\n",
      "Running ZMP:\n",
      "SCF Converged for lambda:   10. Max density difference: 27.767243462246142\n"
     ]
    },
    {
     "data": {
      "text/plain": [
       "(-9.0, 1.0)"
      ]
     },
     "execution_count": 6,
     "metadata": {},
     "output_type": "execute_result"
    },
    {
     "data": {
      "image/png": "[encoded data removed]",
      "text/plain": [
       "<Figure size 432x288 with 1 Axes>"
      ]
     },
     "metadata": {
      "needs_background": "light"
     },
     "output_type": "display_data"
    }
   ],
   "source": [
    "ine.invert(\"zmp\", opt_max_iter=5000, opt_tol=1e-9, zmp_functional='exp', zmp_mixing=0.0, lambda_list=[10], guide_potential_components=[\"fermi_amaldi\"])\n",
    "\n",
    "wfn_ne.Da().np[:] = ine.proto_density_a\n",
    "wfn_ne.Db().np[:] = ine.proto_density_b\n",
    "results = ine.on_grid_esp(grid=grid, )\n",
    "vxc_ne = results[1]\n",
    "\n",
    "\n",
    "plt.title(\"Neon Exchange Correlation Potential\")\n",
    "plt.plot(x,  vxc_ne, label=\"vxc\")\n",
    "plt.legend()\n",
    "plt.xlim(0,5)\n",
    "plt.ylim(-9,1)"
   ]
  },
  {
   "cell_type": "markdown",
   "metadata": {},
   "source": [
    "#### LOGARITHMIC FUNCTIONAL\n",
    "---"
   ]
  },
  {
   "cell_type": "code",
   "execution_count": 7,
   "metadata": {},
   "outputs": [
    {
     "name": "stdout",
     "output_type": "stream",
     "text": [
      "\n",
      "Running ZMP:\n",
      "SCF Converged for lambda:   10. Max density difference: 27.94357262421363\n"
     ]
    },
    {
     "data": {
      "text/plain": [
       "(-9.0, 1.0)"
      ]
     },
     "execution_count": 7,
     "metadata": {},
     "output_type": "execute_result"
    },
    {
     "data": {
      "image/png": "[encoded data removed]",
      "text/plain": [
       "<Figure size 432x288 with 1 Axes>"
      ]
     },
     "metadata": {
      "needs_background": "light"
     },
     "output_type": "display_data"
    }
   ],
   "source": [
    "ine.invert(\"zmp\", opt_max_iter=5000, opt_tol=1e-9, zmp_functional='log', zmp_mixing=1.0, lambda_list=[10], guide_potential_components=[\"fermi_amaldi\"])\n",
    "\n",
    "wfn_ne.Da().np[:] = ine.proto_density_a\n",
    "wfn_ne.Db().np[:] = ine.proto_density_b\n",
    "results = ine.on_grid_esp(grid=grid, )\n",
    "vxc_ne = results[1]\n",
    "\n",
    "\n",
    "plt.title(\"Neon Exchange Correlation Potential\")\n",
    "plt.plot(x,  vxc_ne, label=\"vxc\")\n",
    "plt.legend()\n",
    "plt.xlim(0,5)\n",
    "plt.ylim(-9,1)"
   ]
  },
  {
   "cell_type": "code",
   "execution_count": null,
   "metadata": {},
   "outputs": [],
   "source": []
  }
 ],
 "metadata": {
  "kernelspec": {
   "display_name": "Python 3.8.12 64-bit ('psi4': conda)",
   "language": "python",
   "name": "python3812jvsc74a57bd07f8cb4fe1af0e9ef7d4fb60e83b559fa170f9da1372865c08ea2793cb67a2763"
  },
  "language_info": {
   "codemirror_mode": {
    "name": "ipython",
    "version": 3
   },
   "file_extension": ".py",
   "mimetype": "text/x-python",
   "name": "python",
   "nbconvert_exporter": "python",
   "pygments_lexer": "ipython3",
   "version": "3.8.12"
  }
 },
 "nbformat": 4,
 "nbformat_minor": 4
}
