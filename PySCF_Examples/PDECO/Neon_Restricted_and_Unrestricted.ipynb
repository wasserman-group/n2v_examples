{
 "cells": [
  {
   "cell_type": "markdown",
   "id": "broad-research",
   "metadata": {},
   "source": [
    "## PDECO Method for KS Inversion\n",
    "Please check the original paper of the PDE-Constrained Optimization method:\n",
    " <br>[Jensen Wasserman, Int J Quantum Chem. 2018;118:e25425](https://onlinelibrary.wiley.com/doi/full/10.1002/qua.25425);\n",
    " <br>[Kanungo, Zimmerman, Gavini, Nat Commun 10, 4497 (2019)](https://doi.org/10.1038)"
   ]
  },
  {
   "cell_type": "code",
   "execution_count": 1,
   "id": "little-martin",
   "metadata": {},
   "outputs": [],
   "source": [
    "from pyscf import gto\n",
    "import matplotlib.pyplot as plt\n",
    "import numpy as np\n",
    "import n2v\n",
    "\n",
    "import matplotlib as mpl\n",
    "mpl.rcParams[\"font.size\"] = 11\n",
    "mpl.rcParams[\"font.family\"] = \"sans-serif\"\n",
    "mpl.rcParams[\"axes.edgecolor\"] = \"#eae8e9\" "
   ]
  },
  {
   "cell_type": "markdown",
   "id": "favorite-persian",
   "metadata": {},
   "source": [
    "---\n",
    "### Perform target calculation with Psi4. \n",
    "Store wavefunction (wfn) object"
   ]
  },
  {
   "cell_type": "code",
   "execution_count": 2,
   "id": "specified-genome",
   "metadata": {},
   "outputs": [
    {
     "name": "stdout",
     "output_type": "stream",
     "text": [
      "converged SCF energy = -128.882414403919\n",
      "converged SCF energy = -128.156135758435  <S^2> = -2.6645353e-15  2S+1 = 1\n"
     ]
    }
   ],
   "source": [
    "# Define Molecule\n",
    "mol = gto.M(atom = \"\"\"\n",
    "                  Ne\n",
    "                  \"\"\",\n",
    "basis = 'cc-pvdz')\n",
    "\n",
    "# Perform Calculation\n",
    "mf = mol.KS()\n",
    "mf.xc = 'scan'\n",
    "mf.kernel()\n",
    "\n",
    "# Extract data for n2v. \n",
    "da, db = mf.make_rdm1()/2, mf.make_rdm1()/2\n",
    "ca, cb = mf.mo_coeff[:,:mol.nelec[0]], mf.mo_coeff[:, :mol.nelec[1]]\n",
    "ea, eb = mf.mo_energy, mf.mo_energy\n",
    "\n",
    "# Initialize inverter object. \n",
    "inv = n2v.Inverter( engine='pyscf' )\n",
    "\n",
    "inv.set_system( mol, 'cc-pvdz', pbs='cc-pvqz' )\n",
    "inv.Dt = [da, db]\n",
    "inv.ct = [ca, cb]\n",
    "inv.et = [ea, eb]"
   ]
  },
  {
   "cell_type": "markdown",
   "id": "neither-encyclopedia",
   "metadata": {},
   "source": [
    "PDECO is based on a very simple intuition: the better the density, the better the XC potential will be, at least in the region close enough to the exact density and exact XC potential. Based on this, a density error is defined and optimized:\n",
    "$$N_{error} = \\int dr|n(r) - n_{in}(r)|^2.$$\n",
    "In order to optimize this, a Lagrangian is defined:\n",
    "\\begin{split}\n",
    "&L\\left[v_{KS}, \\{\\psi_i\\}, \\{\\epsilon_i\\}, \\{p_i\\}, \\{\\mu_i\\}\\right]\\\\\n",
    "    =& \\int(n(r)-n_{in}(r))^2 dr \\\\ \n",
    "    & + \\sum_{i=1}^{N/2}\\int p_i(r)(-\\frac{1}{2}\\nabla^2+v_{KS}(r) - \\epsilon_i)\\psi_i(r)dr\\\\\n",
    "    &+\\sum_{i=1}^{N/2}\\mu_i(\\int|\\psi_i(r)|^2dr-1)\n",
    "\\end{split}\n",
    "where where $\\{p_i\\}$ and $\\{\\mu_i\\}$ are Lagrange multipliers for the constraints that $\\{\\psi_i\\}$ are the KS orbitals of $v_{KS}$ with corresponding eigenvalue $\\{\\epsilon_i\\}$ and that the $\\{\\psi_i\\}$ are normalized."
   ]
  },
  {
   "cell_type": "markdown",
   "id": "shaped-enhancement",
   "metadata": {},
   "source": [
    "The gradient of this Lagrangian with respect to $v_{XC}$ can be derived by solving the following equations in sequence:\n",
    "\\begin{align}\n",
    "&(-\\frac{1}{2}\\nabla^2+v_{KS}(r))\\psi_i(r) = \\epsilon_i\\psi_i(r),\\label{equ:CONormalEquationa}\\\\\n",
    "&\\int |\\psi_i(r)|^2 dr= 1,\\\\\n",
    "&(-\\frac{1}{2}\\nabla^2+v_{KS}(r) - \\epsilon_i)p_i(r)= 8(n\\in(r)-n(r))\\psi_i(r) - 2\\mu_i\\psi_i(r),\\\\\n",
    "&\\int p_i(r)\\psi_i(r)dr = 0,\\\\\n",
    "&\\frac{\\delta L}{\\delta v_{KS}(r)}=\\sum_{i=1}^{N/2}p_i(r)\\psi_i(r).\n",
    "\\end{align}\n",
    "It should be noted that, clearly $p_i$ is orthogonal to $\\psi_i$ and that $(-\\frac{1}{2}\\nabla^2+v_{KS}(r) - \\epsilon_i)$ is singular. The current implementation of n2v can produce problems here for some systems because of the linear solver used as well as the finite basis set for representing $\\{p_i\\}.$"
   ]
  },
  {
   "cell_type": "markdown",
   "id": "scientific-juice",
   "metadata": {},
   "source": [
    "---\n",
    "### Invert! \n",
    "$$v_{Kohn-Sham}=v_{ext}+v_{guide}+v_{rest}$$\n",
    "With the guide potential $v_{guide}=v_{Fermi-Amaldi}$ and the rest potential $v_{rest}$ on the potential basis set (pbs) \"aug-cc-pvqz\"."
   ]
  },
  {
   "cell_type": "code",
   "execution_count": 3,
   "id": "multiple-forum",
   "metadata": {},
   "outputs": [
    {
     "name": "stdout",
     "output_type": "stream",
     "text": [
      "converged SCF energy = -128.449977324734\n",
      "Optimization Successful within 26 iterations! |grad|=2.03e-05.\n"
     ]
    }
   ],
   "source": [
    "# Inverter with WuYang method, guide potention v0=Fermi-Amaldi\n",
    "inv.v_pbs = np.zeros_like(inv.v_pbs)\n",
    "inv.invert(\"PDECO\", opt_max_iter=200, guide_components=\"fermi_amaldi\", gtol=1e-6)"
   ]
  },
  {
   "cell_type": "markdown",
   "id": "pointed-convergence",
   "metadata": {},
   "source": [
    "---\n",
    "\n",
    "### Visualization of the potentials. \n",
    "#### Since this is a 1-D system, let's first plot it alone x axis."
   ]
  },
  {
   "cell_type": "code",
   "execution_count": 4,
   "id": "sunset-harvest",
   "metadata": {},
   "outputs": [],
   "source": [
    "# Build Grid\n",
    "inv.eng.grid.build_rectangular((1001,1,1))\n",
    "x = inv.eng.grid.x"
   ]
  },
  {
   "cell_type": "markdown",
   "id": "adapted-indonesian",
   "metadata": {},
   "source": [
    "Get exchange-correlation potentials.\n",
    "\\begin{align}\n",
    "v_{xc}\n",
    "&=v_{Kohn-Sham}-v_{Hartree}-v_{ext}\\\\\n",
    "&=v_{guide}+v_{rest}-v_{Hartree}\n",
    "\\end{align}"
   ]
  },
  {
   "cell_type": "code",
   "execution_count": 7,
   "id": "imported-separation",
   "metadata": {},
   "outputs": [],
   "source": [
    "vrest = inv.eng.grid.to_grid(inv.v_pbs, grid='rectangular')"
   ]
  },
  {
   "cell_type": "code",
   "execution_count": 9,
   "id": "cooked-residence",
   "metadata": {},
   "outputs": [],
   "source": [
    "# Get Hartree and Fermi-Amaldi potentials\n",
    "\n",
    "vH = inv.eng.grid.hartree(density=da+db, grid='rectangular')\n",
    "vFA = (1-1/(inv.nalpha + inv.nbeta)) * vH\n",
    "\n",
    "# Build Vxc\n",
    "vxc = vFA + vrest - vH"
   ]
  },
  {
   "cell_type": "code",
   "execution_count": 10,
   "id": "solar-sheep",
   "metadata": {},
   "outputs": [
    {
     "data": {
      "text/plain": [
       "<matplotlib.legend.Legend at 0x7f8f65c174c0>"
      ]
     },
     "execution_count": 10,
     "metadata": {},
     "output_type": "execute_result"
    },
    {
     "data": {
      "image/png": "[encoded data removed]",
      "text/plain": [
       "<Figure size 432x288 with 1 Axes>"
      ]
     },
     "metadata": {
      "needs_background": "light"
     },
     "output_type": "display_data"
    }
   ],
   "source": [
    "fig, ax = plt.subplots()\n",
    "ax.plot(x, vxc, label='vxc')\n",
    "ax.legend()"
   ]
  },
  {
   "cell_type": "markdown",
   "id": "modular-preservation",
   "metadata": {},
   "source": [
    "---\n",
    "# Unrestricted Calculation "
   ]
  },
  {
   "cell_type": "code",
   "execution_count": 11,
   "id": "coordinated-europe",
   "metadata": {},
   "outputs": [
    {
     "name": "stdout",
     "output_type": "stream",
     "text": [
      "converged SCF energy = -128.156135758435  <S^2> = -2.6645353e-15  2S+1 = 1\n"
     ]
    }
   ],
   "source": [
    "# Initialize inverter object. \n",
    "inv = n2v.Inverter( engine='pyscf' )\n",
    "\n",
    "inv.set_system( mol, 'cc-pvdz', pbs='cc-pvqz', ref=2 )\n",
    "inv.Dt = [da, db]\n",
    "inv.ct = [ca, cb]\n",
    "inv.et = [ea, eb]"
   ]
  },
  {
   "cell_type": "code",
   "execution_count": 14,
   "id": "permanent-interest",
   "metadata": {},
   "outputs": [
    {
     "name": "stdout",
     "output_type": "stream",
     "text": [
      "converged SCF energy = -128.449977324734\n",
      "Optimization Successful within 23 iterations! |grad|=7.05e-05.\n"
     ]
    }
   ],
   "source": [
    "# Inverter with WuYang method, guide potention v0=Fermi-Amaldi\n",
    "inv.v_pbs = np.zeros_like(inv.v_pbs)\n",
    "inv.invert(\"PDECO\", opt_max_iter=200, guide_components=\"fermi_amaldi\", gtol=1e-6)"
   ]
  },
  {
   "cell_type": "code",
   "execution_count": 18,
   "id": "characteristic-uruguay",
   "metadata": {},
   "outputs": [],
   "source": [
    "# Build Grid\n",
    "inv.eng.grid.build_rectangular((1001,1,1))\n",
    "x = inv.eng.grid.x\n",
    "\n",
    "vH = inv.eng.grid.hartree(density=da+db, grid='rectangular')\n",
    "vFA = (1-1/(inv.nalpha + inv.nbeta)) * vH"
   ]
  },
  {
   "cell_type": "code",
   "execution_count": 22,
   "id": "straight-workshop",
   "metadata": {},
   "outputs": [],
   "source": [
    "vrest_a = inv.eng.grid.to_grid(inv.v_pbs[:inv.npbs], grid='rectangular')\n",
    "vxc_a = vFA + vrest_a - vH"
   ]
  },
  {
   "cell_type": "code",
   "execution_count": 24,
   "id": "experimental-tourism",
   "metadata": {},
   "outputs": [],
   "source": [
    "vrest_b = inv.eng.grid.to_grid(inv.v_pbs[inv.npbs:], grid='rectangular')\n",
    "vxc_b = vFA + vrest_b - vH"
   ]
  },
  {
   "cell_type": "code",
   "execution_count": 25,
   "id": "guided-passenger",
   "metadata": {},
   "outputs": [
    {
     "data": {
      "text/plain": [
       "<matplotlib.legend.Legend at 0x7f8f647b3160>"
      ]
     },
     "execution_count": 25,
     "metadata": {},
     "output_type": "execute_result"
    },
    {
     "data": {
      "image/png": "[encoded data removed]",
      "text/plain": [
       "<Figure size 864x360 with 2 Axes>"
      ]
     },
     "metadata": {
      "needs_background": "light"
     },
     "output_type": "display_data"
    }
   ],
   "source": [
    "fig, ax = plt.subplots(1,2, figsize=(12,5))\n",
    "ax[0].plot(x, vxc_a, label='Vxc_a')\n",
    "ax[1].plot(x, vxc_b, label='Vxc_b')\n",
    "ax[0].legend()\n",
    "ax[1].legend()"
   ]
  }
 ],
 "metadata": {
  "kernelspec": {
   "display_name": "Python 3",
   "language": "python",
   "name": "python3"
  },
  "language_info": {
   "codemirror_mode": {
    "name": "ipython",
    "version": 3
   },
   "file_extension": ".py",
   "mimetype": "text/x-python",
   "name": "python",
   "nbconvert_exporter": "python",
   "pygments_lexer": "ipython3",
   "version": "3.8.5"
  }
 },
 "nbformat": 4,
 "nbformat_minor": 5
}
