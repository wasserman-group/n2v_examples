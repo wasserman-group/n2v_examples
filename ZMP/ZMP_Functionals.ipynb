{
 "cells": [
  {
   "cell_type": "markdown",
   "metadata": {},
   "source": [
    "### Generalization of ZMP method."
   ]
  },
  {
   "cell_type": "markdown",
   "metadata": {},
   "source": [
    "The work of [Kamal and Harbola](https://doi.org/10.1002/qua.26400) proved that the Hartree potential is not the only Functional that can be used to drive the inversion procedure. Their work showed that a functional that satisfies the condition:\n",
    "\n",
    "$$\n",
    "\\int \\frac{\\delta S[n]}{\\delta n} - \\frac{\\delta S[n]}{\\delta n} \\bigg|_{n_0(r)} (n(r) - n_0(r)) dr \\le 0\n",
    "$$\n",
    "\n",
    "Can be used as apenalty functional for performing Levy's constrained search. Some of the functionals that can be used are:\n",
    "\n",
    "\n",
    "$$\n",
    "S_1[n] = \\frac{1}{2} \\int \\frac{n(r) n(r')}{|r-r'|} dr dr'\n",
    "$$\n",
    "\n",
    "$$\n",
    "S_2[n] =  \\int n(r) log(n(r)) dr \n",
    "$$\n",
    "\n",
    "$$\n",
    "S_3[n] = \\frac{1}{0.05+1} \\int n^{0.05+1}(r) dr \n",
    "$$\n",
    "\n"
   ]
  },
  {
   "cell_type": "markdown",
   "metadata": {},
   "source": [
    "The previous two functionals have been included in `n2v` and they can be used to drive the SCF calculation as follows: "
   ]
  },
  {
   "cell_type": "code",
   "execution_count": 2,
   "metadata": {},
   "outputs": [],
   "source": [
    "import os\n",
    "import psi4\n",
    "import matplotlib.pyplot as plt\n",
    "import numpy as np\n",
    "# import numpy_html\n",
    "psi4.set_options({\"save_jk\" : True})\n",
    "psi4.set_memory(int(2.50e9))\n",
    "psi4.core.clean()\n",
    "\n",
    "import n2v\n",
    "\n",
    "#Define Psi4 geometries. Symmetries need to be set to C1. \n",
    "Ne = psi4.geometry( \n",
    "\"\"\" \n",
    "0 1\n",
    "Ne 0.0 0.0 0.0\n",
    "noreorient\n",
    "nocom\n",
    "units bohr\n",
    "symmetry c1\n",
    "\"\"\" )\n",
    "\n",
    "\n",
    "#n2v is driven by psi4's reference option. Make sure you set it accordingly. \n",
    "psi4.set_options({\"reference\" : \"rhf\"})\n",
    "\n",
    "#Perform a calculation for a target density. \n",
    "#Remember that for post scf calculations, Psi4 does not update the density. \n",
    "#Thus make sure you obtain something like a dipole in order to do so. \n",
    "e, wfn_ne = psi4.properties(\"hf/aug-cc-pvtz\", return_wfn=True, properties=[\"dipole\"], molecule=Ne)\n",
    "\n",
    "#Define inverter objects for each molcule. Simply use the wnf object from psi4 as an argument. \n",
    "ine = n2v.Inverter(wfn_ne)\n",
    "\n",
    "#Define grid for plotting\n",
    "npoints=400\n",
    "x = np.linspace(-0,5,npoints)[:,None]\n",
    "y = np.linspace(-0,5,npoints)[:,None]\n",
    "z = np.linspace(-0,5,npoints)[:,None]\n",
    "grid = np.concatenate((x,y,z), axis=1).T"
   ]
  },
  {
   "cell_type": "markdown",
   "metadata": {},
   "source": [
    "#### HARTREE FUNCTIONAL\n",
    "---"
   ]
  },
  {
   "cell_type": "code",
   "execution_count": 5,
   "metadata": {},
   "outputs": [
    {
     "name": "stdout",
     "output_type": "stream",
     "text": [
      "\n",
      "Running ZMP:\n",
      "SCF Converged for lambda:   10. Max density difference: 16.159743321591577\n"
     ]
    },
    {
     "data": {
      "text/plain": [
       "(-9.0, 1.0)"
      ]
     },
     "execution_count": 5,
     "metadata": {},
     "output_type": "execute_result"
    },
    {
     "data": {
      "image/png": "[encoded data removed]",
      "text/plain": [
       "<Figure size 432x288 with 1 Axes>"
      ]
     },
     "metadata": {
      "needs_background": "light"
     },
     "output_type": "display_data"
    }
   ],
   "source": [
    "ine.invert(\"zmp\", opt_max_iter=500, opt_tol=1e-9, zmp_functional='hartree', zmp_mixing=0.01, lambda_list=[10], guide_potential_components=[\"fermi_amaldi\"])\n",
    "\n",
    "wfn_ne.Da().np[:] = ine.proto_density_a\n",
    "wfn_ne.Db().np[:] = ine.proto_density_b\n",
    "results = ine.on_grid_esp(grid=grid, )\n",
    "vxc_ne = results[1]\n",
    "\n",
    "plt.title(\"Neon Exchange Correlation Potential\")\n",
    "plt.plot(x,  vxc_ne, label=\"vxc\")\n",
    "plt.legend()\n",
    "plt.xlim(0,5)\n",
    "plt.ylim(-9,1)"
   ]
  },
  {
   "cell_type": "markdown",
   "metadata": {},
   "source": [
    "#### EXPONENTIAL FUNCTIONAL\n",
    "---"
   ]
  },
  {
   "cell_type": "code",
   "execution_count": 6,
   "metadata": {},
   "outputs": [
    {
     "name": "stdout",
     "output_type": "stream",
     "text": [
      "\n",
      "Running ZMP:\n",
      "SCF Converged for lambda:   10. Max density difference: 27.767243462246142\n"
     ]
    },
    {
     "data": {
      "text/plain": [
       "(-9.0, 1.0)"
      ]
     },
     "execution_count": 6,
     "metadata": {},
     "output_type": "execute_result"
    },
    {
     "data": {
      "image/png": "[encoded data removed]",
      "text/plain": [
       "<Figure size 432x288 with 1 Axes>"
      ]
     },
     "metadata": {
      "needs_background": "light"
     },
     "output_type": "display_data"
    }
   ],
   "source": [
    "ine.invert(\"zmp\", opt_max_iter=5000, opt_tol=1e-9, zmp_functional='exp', zmp_mixing=0.0, lambda_list=[10], guide_potential_components=[\"fermi_amaldi\"])\n",
    "\n",
    "wfn_ne.Da().np[:] = ine.proto_density_a\n",
    "wfn_ne.Db().np[:] = ine.proto_density_b\n",
    "results = ine.on_grid_esp(grid=grid, )\n",
    "vxc_ne = results[1]\n",
    "\n",
    "\n",
    "plt.title(\"Neon Exchange Correlation Potential\")\n",
    "plt.plot(x,  vxc_ne, label=\"vxc\")\n",
    "plt.legend()\n",
    "plt.xlim(0,5)\n",
    "plt.ylim(-9,1)"
   ]
  },
  {
   "cell_type": "markdown",
   "metadata": {},
   "source": [
    "#### LOGARITHMIC FUNCTIONAL\n",
    "---"
   ]
  },
  {
   "cell_type": "code",
   "execution_count": 7,
   "metadata": {},
   "outputs": [
    {
     "name": "stdout",
     "output_type": "stream",
     "text": [
      "\n",
      "Running ZMP:\n",
      "SCF Converged for lambda:   10. Max density difference: 27.94357262421363\n"
     ]
    },
    {
     "data": {
      "text/plain": [
       "(-9.0, 1.0)"
      ]
     },
     "execution_count": 7,
     "metadata": {},
     "output_type": "execute_result"
    },
    {
     "data": {
      "image/png": "[encoded data removed]",
      "text/plain": [
       "<Figure size 432x288 with 1 Axes>"
      ]
     },
     "metadata": {
      "needs_background": "light"
     },
     "output_type": "display_data"
    }
   ],
   "source": [
    "ine.invert(\"zmp\", opt_max_iter=5000, opt_tol=1e-9, zmp_functional='log', zmp_mixing=1.0, lambda_list=[10], guide_potential_components=[\"fermi_amaldi\"])\n",
    "\n",
    "wfn_ne.Da().np[:] = ine.proto_density_a\n",
    "wfn_ne.Db().np[:] = ine.proto_density_b\n",
    "results = ine.on_grid_esp(grid=grid, )\n",
    "vxc_ne = results[1]\n",
    "\n",
    "\n",
    "plt.title(\"Neon Exchange Correlation Potential\")\n",
    "plt.plot(x,  vxc_ne, label=\"vxc\")\n",
    "plt.legend()\n",
    "plt.xlim(0,5)\n",
    "plt.ylim(-9,1)"
   ]
  },
  {
   "cell_type": "code",
   "execution_count": null,
   "metadata": {},
   "outputs": [],
   "source": []
  }
 ],
 "metadata": {
  "kernelspec": {
   "display_name": "Python 3 (ipykernel)",
   "language": "python",
   "name": "python3"
  },
  "language_info": {
   "codemirror_mode": {
    "name": "ipython",
    "version": 3
   },
   "file_extension": ".py",
   "mimetype": "text/x-python",
   "name": "python",
   "nbconvert_exporter": "python",
   "pygments_lexer": "ipython3",
   "version": "3.9.7"
  }
 },
 "nbformat": 4,
 "nbformat_minor": 4
}
